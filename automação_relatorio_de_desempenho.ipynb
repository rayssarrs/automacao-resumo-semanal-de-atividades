{
  "nbformat": 4,
  "nbformat_minor": 0,
  "metadata": {
    "colab": {
      "provenance": [],
      "authorship_tag": "ABX9TyM5uxdMizOGjOSFS9pBsSKt",
      "include_colab_link": true
    },
    "kernelspec": {
      "name": "python3",
      "display_name": "Python 3"
    },
    "language_info": {
      "name": "python"
    }
  },
  "cells": [
    {
      "cell_type": "markdown",
      "metadata": {
        "id": "view-in-github",
        "colab_type": "text"
      },
      "source": [
        "<a href=\"https://colab.research.google.com/github/rayssarrs/automacao-resumo-semanal-de-atividades/blob/main/automa%C3%A7%C3%A3o_relatorio_de_desempenho.ipynb\" target=\"_parent\"><img src=\"https://colab.research.google.com/assets/colab-badge.svg\" alt=\"Open In Colab\"/></a>"
      ]
    },
    {
      "cell_type": "code",
      "source": [
        "#bibliotecas\n",
        "import pandas as pd\n",
        "import numpy as np"
      ],
      "metadata": {
        "id": "5vLQjukmtBBu"
      },
      "execution_count": 4,
      "outputs": []
    },
    {
      "cell_type": "code",
      "source": [
        "np.random.seed(42) #resultados aleatorios para teste ficticio"
      ],
      "metadata": {
        "id": "ymq7sZfMtDoj"
      },
      "execution_count": 5,
      "outputs": []
    },
    {
      "cell_type": "code",
      "source": [
        "#base de dados ficticia para teste\n",
        "num_escolas = 200\n",
        "responsaveis_prospeccao = [\"Astrid\", \"Vinicius\", \"Israela\", \"Mel\", \"Rayssa\"]\n",
        "tipos_escola = [\"Pública\", \"Privada\"]"
      ],
      "metadata": {
        "id": "sGqGFLzZtKeI"
      },
      "execution_count": 33,
      "outputs": []
    },
    {
      "cell_type": "code",
      "source": [
        "data = {\n",
        "    \"ID\": range(1, num_escolas + 1),\n",
        "    \"Nome Escola\": [f\"Escola {i}\" for i in range(1, num_escolas + 1)],\n",
        "    \"Responsavel\": np.random.choice(responsaveis_prospeccao, num_escolas),\n",
        "    \"Status\": np.random.choice(\n",
        "        [\"Abordada\", \"Não Efetivo\", \"Retração\"],\n",
        "        num_escolas,\n",
        "        p=[0.6, 0.25, 0.15]  # probabilidade de cada status para teste\n",
        "    ),\n",
        "    \"Aplicando\": np.random.choice([\"Sim\", \"Não\"], num_escolas, p=[0.7, 0.3]),\n",
        "    \"Data ultimo Contato\": pd.to_datetime(\"2025-09-01\") + pd.to_timedelta(np.random.randint(0, 30, num_escolas), unit=\"d\"), # Added a comma here\n",
        "    \"Tipo Escola\": np.random.choice(tipos_escola, num_escolas, p=[0.7, 0.3]),  # 70% públicas, 30% privadas (ficticio)\n",
        "    \"Numero de Alunos\": np.random.randint(50, 1001, num_escolas)\n",
        "}"
      ],
      "metadata": {
        "id": "8n9aJAKWtgQ6"
      },
      "execution_count": 34,
      "outputs": []
    },
    {
      "cell_type": "code",
      "source": [
        "df = pd.DataFrame(data)\n",
        "\n",
        "df.head()"
      ],
      "metadata": {
        "colab": {
          "base_uri": "https://localhost:8080/",
          "height": 206
        },
        "id": "i7TlwV09uJLC",
        "outputId": "bde9a6fe-87df-4e77-a94f-57ad36f920c3"
      },
      "execution_count": 35,
      "outputs": [
        {
          "output_type": "execute_result",
          "data": {
            "text/plain": [
              "   ID Nome Escola Responsavel       Status Aplicando Data ultimo Contato  \\\n",
              "0   1    Escola 1    Vinicius     Abordada       Sim          2025-09-27   \n",
              "1   2    Escola 2      Rayssa  Não Efetivo       Sim          2025-09-03   \n",
              "2   3    Escola 3      Rayssa     Abordada       Sim          2025-09-28   \n",
              "3   4    Escola 4      Rayssa  Não Efetivo       Não          2025-09-17   \n",
              "4   5    Escola 5      Rayssa     Abordada       Sim          2025-09-10   \n",
              "\n",
              "  Tipo Escola  Numero de Alunos  \n",
              "0     Pública               513  \n",
              "1     Pública                95  \n",
              "2     Pública               893  \n",
              "3     Pública               287  \n",
              "4     Pública                59  "
            ],
            "text/html": [
              "\n",
              "  <div id=\"df-e67d106c-c80a-4dba-9524-4aae92e618e3\" class=\"colab-df-container\">\n",
              "    <div>\n",
              "<style scoped>\n",
              "    .dataframe tbody tr th:only-of-type {\n",
              "        vertical-align: middle;\n",
              "    }\n",
              "\n",
              "    .dataframe tbody tr th {\n",
              "        vertical-align: top;\n",
              "    }\n",
              "\n",
              "    .dataframe thead th {\n",
              "        text-align: right;\n",
              "    }\n",
              "</style>\n",
              "<table border=\"1\" class=\"dataframe\">\n",
              "  <thead>\n",
              "    <tr style=\"text-align: right;\">\n",
              "      <th></th>\n",
              "      <th>ID</th>\n",
              "      <th>Nome Escola</th>\n",
              "      <th>Responsavel</th>\n",
              "      <th>Status</th>\n",
              "      <th>Aplicando</th>\n",
              "      <th>Data ultimo Contato</th>\n",
              "      <th>Tipo Escola</th>\n",
              "      <th>Numero de Alunos</th>\n",
              "    </tr>\n",
              "  </thead>\n",
              "  <tbody>\n",
              "    <tr>\n",
              "      <th>0</th>\n",
              "      <td>1</td>\n",
              "      <td>Escola 1</td>\n",
              "      <td>Vinicius</td>\n",
              "      <td>Abordada</td>\n",
              "      <td>Sim</td>\n",
              "      <td>2025-09-27</td>\n",
              "      <td>Pública</td>\n",
              "      <td>513</td>\n",
              "    </tr>\n",
              "    <tr>\n",
              "      <th>1</th>\n",
              "      <td>2</td>\n",
              "      <td>Escola 2</td>\n",
              "      <td>Rayssa</td>\n",
              "      <td>Não Efetivo</td>\n",
              "      <td>Sim</td>\n",
              "      <td>2025-09-03</td>\n",
              "      <td>Pública</td>\n",
              "      <td>95</td>\n",
              "    </tr>\n",
              "    <tr>\n",
              "      <th>2</th>\n",
              "      <td>3</td>\n",
              "      <td>Escola 3</td>\n",
              "      <td>Rayssa</td>\n",
              "      <td>Abordada</td>\n",
              "      <td>Sim</td>\n",
              "      <td>2025-09-28</td>\n",
              "      <td>Pública</td>\n",
              "      <td>893</td>\n",
              "    </tr>\n",
              "    <tr>\n",
              "      <th>3</th>\n",
              "      <td>4</td>\n",
              "      <td>Escola 4</td>\n",
              "      <td>Rayssa</td>\n",
              "      <td>Não Efetivo</td>\n",
              "      <td>Não</td>\n",
              "      <td>2025-09-17</td>\n",
              "      <td>Pública</td>\n",
              "      <td>287</td>\n",
              "    </tr>\n",
              "    <tr>\n",
              "      <th>4</th>\n",
              "      <td>5</td>\n",
              "      <td>Escola 5</td>\n",
              "      <td>Rayssa</td>\n",
              "      <td>Abordada</td>\n",
              "      <td>Sim</td>\n",
              "      <td>2025-09-10</td>\n",
              "      <td>Pública</td>\n",
              "      <td>59</td>\n",
              "    </tr>\n",
              "  </tbody>\n",
              "</table>\n",
              "</div>\n",
              "    <div class=\"colab-df-buttons\">\n",
              "\n",
              "  <div class=\"colab-df-container\">\n",
              "    <button class=\"colab-df-convert\" onclick=\"convertToInteractive('df-e67d106c-c80a-4dba-9524-4aae92e618e3')\"\n",
              "            title=\"Convert this dataframe to an interactive table.\"\n",
              "            style=\"display:none;\">\n",
              "\n",
              "  <svg xmlns=\"http://www.w3.org/2000/svg\" height=\"24px\" viewBox=\"0 -960 960 960\">\n",
              "    <path d=\"M120-120v-720h720v720H120Zm60-500h600v-160H180v160Zm220 220h160v-160H400v160Zm0 220h160v-160H400v160ZM180-400h160v-160H180v160Zm440 0h160v-160H620v160ZM180-180h160v-160H180v160Zm440 0h160v-160H620v160Z\"/>\n",
              "  </svg>\n",
              "    </button>\n",
              "\n",
              "  <style>\n",
              "    .colab-df-container {\n",
              "      display:flex;\n",
              "      gap: 12px;\n",
              "    }\n",
              "\n",
              "    .colab-df-convert {\n",
              "      background-color: #E8F0FE;\n",
              "      border: none;\n",
              "      border-radius: 50%;\n",
              "      cursor: pointer;\n",
              "      display: none;\n",
              "      fill: #1967D2;\n",
              "      height: 32px;\n",
              "      padding: 0 0 0 0;\n",
              "      width: 32px;\n",
              "    }\n",
              "\n",
              "    .colab-df-convert:hover {\n",
              "      background-color: #E2EBFA;\n",
              "      box-shadow: 0px 1px 2px rgba(60, 64, 67, 0.3), 0px 1px 3px 1px rgba(60, 64, 67, 0.15);\n",
              "      fill: #174EA6;\n",
              "    }\n",
              "\n",
              "    .colab-df-buttons div {\n",
              "      margin-bottom: 4px;\n",
              "    }\n",
              "\n",
              "    [theme=dark] .colab-df-convert {\n",
              "      background-color: #3B4455;\n",
              "      fill: #D2E3FC;\n",
              "    }\n",
              "\n",
              "    [theme=dark] .colab-df-convert:hover {\n",
              "      background-color: #434B5C;\n",
              "      box-shadow: 0px 1px 3px 1px rgba(0, 0, 0, 0.15);\n",
              "      filter: drop-shadow(0px 1px 2px rgba(0, 0, 0, 0.3));\n",
              "      fill: #FFFFFF;\n",
              "    }\n",
              "  </style>\n",
              "\n",
              "    <script>\n",
              "      const buttonEl =\n",
              "        document.querySelector('#df-e67d106c-c80a-4dba-9524-4aae92e618e3 button.colab-df-convert');\n",
              "      buttonEl.style.display =\n",
              "        google.colab.kernel.accessAllowed ? 'block' : 'none';\n",
              "\n",
              "      async function convertToInteractive(key) {\n",
              "        const element = document.querySelector('#df-e67d106c-c80a-4dba-9524-4aae92e618e3');\n",
              "        const dataTable =\n",
              "          await google.colab.kernel.invokeFunction('convertToInteractive',\n",
              "                                                    [key], {});\n",
              "        if (!dataTable) return;\n",
              "\n",
              "        const docLinkHtml = 'Like what you see? Visit the ' +\n",
              "          '<a target=\"_blank\" href=https://colab.research.google.com/notebooks/data_table.ipynb>data table notebook</a>'\n",
              "          + ' to learn more about interactive tables.';\n",
              "        element.innerHTML = '';\n",
              "        dataTable['output_type'] = 'display_data';\n",
              "        await google.colab.output.renderOutput(dataTable, element);\n",
              "        const docLink = document.createElement('div');\n",
              "        docLink.innerHTML = docLinkHtml;\n",
              "        element.appendChild(docLink);\n",
              "      }\n",
              "    </script>\n",
              "  </div>\n",
              "\n",
              "\n",
              "    <div id=\"df-1486890a-a350-445c-83bc-f2561dccc702\">\n",
              "      <button class=\"colab-df-quickchart\" onclick=\"quickchart('df-1486890a-a350-445c-83bc-f2561dccc702')\"\n",
              "                title=\"Suggest charts\"\n",
              "                style=\"display:none;\">\n",
              "\n",
              "<svg xmlns=\"http://www.w3.org/2000/svg\" height=\"24px\"viewBox=\"0 0 24 24\"\n",
              "     width=\"24px\">\n",
              "    <g>\n",
              "        <path d=\"M19 3H5c-1.1 0-2 .9-2 2v14c0 1.1.9 2 2 2h14c1.1 0 2-.9 2-2V5c0-1.1-.9-2-2-2zM9 17H7v-7h2v7zm4 0h-2V7h2v10zm4 0h-2v-4h2v4z\"/>\n",
              "    </g>\n",
              "</svg>\n",
              "      </button>\n",
              "\n",
              "<style>\n",
              "  .colab-df-quickchart {\n",
              "      --bg-color: #E8F0FE;\n",
              "      --fill-color: #1967D2;\n",
              "      --hover-bg-color: #E2EBFA;\n",
              "      --hover-fill-color: #174EA6;\n",
              "      --disabled-fill-color: #AAA;\n",
              "      --disabled-bg-color: #DDD;\n",
              "  }\n",
              "\n",
              "  [theme=dark] .colab-df-quickchart {\n",
              "      --bg-color: #3B4455;\n",
              "      --fill-color: #D2E3FC;\n",
              "      --hover-bg-color: #434B5C;\n",
              "      --hover-fill-color: #FFFFFF;\n",
              "      --disabled-bg-color: #3B4455;\n",
              "      --disabled-fill-color: #666;\n",
              "  }\n",
              "\n",
              "  .colab-df-quickchart {\n",
              "    background-color: var(--bg-color);\n",
              "    border: none;\n",
              "    border-radius: 50%;\n",
              "    cursor: pointer;\n",
              "    display: none;\n",
              "    fill: var(--fill-color);\n",
              "    height: 32px;\n",
              "    padding: 0;\n",
              "    width: 32px;\n",
              "  }\n",
              "\n",
              "  .colab-df-quickchart:hover {\n",
              "    background-color: var(--hover-bg-color);\n",
              "    box-shadow: 0 1px 2px rgba(60, 64, 67, 0.3), 0 1px 3px 1px rgba(60, 64, 67, 0.15);\n",
              "    fill: var(--button-hover-fill-color);\n",
              "  }\n",
              "\n",
              "  .colab-df-quickchart-complete:disabled,\n",
              "  .colab-df-quickchart-complete:disabled:hover {\n",
              "    background-color: var(--disabled-bg-color);\n",
              "    fill: var(--disabled-fill-color);\n",
              "    box-shadow: none;\n",
              "  }\n",
              "\n",
              "  .colab-df-spinner {\n",
              "    border: 2px solid var(--fill-color);\n",
              "    border-color: transparent;\n",
              "    border-bottom-color: var(--fill-color);\n",
              "    animation:\n",
              "      spin 1s steps(1) infinite;\n",
              "  }\n",
              "\n",
              "  @keyframes spin {\n",
              "    0% {\n",
              "      border-color: transparent;\n",
              "      border-bottom-color: var(--fill-color);\n",
              "      border-left-color: var(--fill-color);\n",
              "    }\n",
              "    20% {\n",
              "      border-color: transparent;\n",
              "      border-left-color: var(--fill-color);\n",
              "      border-top-color: var(--fill-color);\n",
              "    }\n",
              "    30% {\n",
              "      border-color: transparent;\n",
              "      border-left-color: var(--fill-color);\n",
              "      border-top-color: var(--fill-color);\n",
              "      border-right-color: var(--fill-color);\n",
              "    }\n",
              "    40% {\n",
              "      border-color: transparent;\n",
              "      border-right-color: var(--fill-color);\n",
              "      border-top-color: var(--fill-color);\n",
              "    }\n",
              "    60% {\n",
              "      border-color: transparent;\n",
              "      border-right-color: var(--fill-color);\n",
              "    }\n",
              "    80% {\n",
              "      border-color: transparent;\n",
              "      border-right-color: var(--fill-color);\n",
              "      border-bottom-color: var(--fill-color);\n",
              "    }\n",
              "    90% {\n",
              "      border-color: transparent;\n",
              "      border-bottom-color: var(--fill-color);\n",
              "    }\n",
              "  }\n",
              "</style>\n",
              "\n",
              "      <script>\n",
              "        async function quickchart(key) {\n",
              "          const quickchartButtonEl =\n",
              "            document.querySelector('#' + key + ' button');\n",
              "          quickchartButtonEl.disabled = true;  // To prevent multiple clicks.\n",
              "          quickchartButtonEl.classList.add('colab-df-spinner');\n",
              "          try {\n",
              "            const charts = await google.colab.kernel.invokeFunction(\n",
              "                'suggestCharts', [key], {});\n",
              "          } catch (error) {\n",
              "            console.error('Error during call to suggestCharts:', error);\n",
              "          }\n",
              "          quickchartButtonEl.classList.remove('colab-df-spinner');\n",
              "          quickchartButtonEl.classList.add('colab-df-quickchart-complete');\n",
              "        }\n",
              "        (() => {\n",
              "          let quickchartButtonEl =\n",
              "            document.querySelector('#df-1486890a-a350-445c-83bc-f2561dccc702 button');\n",
              "          quickchartButtonEl.style.display =\n",
              "            google.colab.kernel.accessAllowed ? 'block' : 'none';\n",
              "        })();\n",
              "      </script>\n",
              "    </div>\n",
              "\n",
              "    </div>\n",
              "  </div>\n"
            ],
            "application/vnd.google.colaboratory.intrinsic+json": {
              "type": "dataframe",
              "variable_name": "df",
              "summary": "{\n  \"name\": \"df\",\n  \"rows\": 200,\n  \"fields\": [\n    {\n      \"column\": \"ID\",\n      \"properties\": {\n        \"dtype\": \"number\",\n        \"std\": 57,\n        \"min\": 1,\n        \"max\": 200,\n        \"num_unique_values\": 200,\n        \"samples\": [\n          96,\n          16,\n          31\n        ],\n        \"semantic_type\": \"\",\n        \"description\": \"\"\n      }\n    },\n    {\n      \"column\": \"Nome Escola\",\n      \"properties\": {\n        \"dtype\": \"string\",\n        \"num_unique_values\": 200,\n        \"samples\": [\n          \"Escola 96\",\n          \"Escola 16\",\n          \"Escola 31\"\n        ],\n        \"semantic_type\": \"\",\n        \"description\": \"\"\n      }\n    },\n    {\n      \"column\": \"Responsavel\",\n      \"properties\": {\n        \"dtype\": \"category\",\n        \"num_unique_values\": 5,\n        \"samples\": [\n          \"Rayssa\",\n          \"Israela\",\n          \"Astrid\"\n        ],\n        \"semantic_type\": \"\",\n        \"description\": \"\"\n      }\n    },\n    {\n      \"column\": \"Status\",\n      \"properties\": {\n        \"dtype\": \"category\",\n        \"num_unique_values\": 3,\n        \"samples\": [\n          \"Abordada\",\n          \"N\\u00e3o Efetivo\",\n          \"Retra\\u00e7\\u00e3o\"\n        ],\n        \"semantic_type\": \"\",\n        \"description\": \"\"\n      }\n    },\n    {\n      \"column\": \"Aplicando\",\n      \"properties\": {\n        \"dtype\": \"category\",\n        \"num_unique_values\": 2,\n        \"samples\": [\n          \"N\\u00e3o\",\n          \"Sim\"\n        ],\n        \"semantic_type\": \"\",\n        \"description\": \"\"\n      }\n    },\n    {\n      \"column\": \"Data ultimo Contato\",\n      \"properties\": {\n        \"dtype\": \"date\",\n        \"min\": \"2025-09-01 00:00:00\",\n        \"max\": \"2025-09-30 00:00:00\",\n        \"num_unique_values\": 30,\n        \"samples\": [\n          \"2025-09-08 00:00:00\",\n          \"2025-09-29 00:00:00\"\n        ],\n        \"semantic_type\": \"\",\n        \"description\": \"\"\n      }\n    },\n    {\n      \"column\": \"Tipo Escola\",\n      \"properties\": {\n        \"dtype\": \"category\",\n        \"num_unique_values\": 2,\n        \"samples\": [\n          \"Privada\",\n          \"P\\u00fablica\"\n        ],\n        \"semantic_type\": \"\",\n        \"description\": \"\"\n      }\n    },\n    {\n      \"column\": \"Numero de Alunos\",\n      \"properties\": {\n        \"dtype\": \"number\",\n        \"std\": 266,\n        \"min\": 50,\n        \"max\": 998,\n        \"num_unique_values\": 181,\n        \"samples\": [\n          902,\n          109\n        ],\n        \"semantic_type\": \"\",\n        \"description\": \"\"\n      }\n    }\n  ]\n}"
            }
          },
          "metadata": {},
          "execution_count": 35
        }
      ]
    },
    {
      "cell_type": "code",
      "source": [
        "#relatorio individual de desempenho do funcionario\n",
        "\n",
        "responsavel_selecionado = \"Rayssa\"\n",
        "df_individual = df[df[\"Responsavel\"] == responsavel_selecionado]\n",
        "total_escolas = len(df_individual)\n",
        "\n",
        "status_counts = df_individual[\"Status\"].value_counts()\n",
        "status_percent = df_individual[\"Status\"].value_counts(normalize=True) * 100\n",
        "\n",
        "aplicando_counts = df_individual[\"Aplicando\"].value_counts()\n",
        "aplicando_percent = df_individual[\"Aplicando\"].value_counts(normalize=True) * 100"
      ],
      "metadata": {
        "id": "UoYN69NmwIjG"
      },
      "execution_count": 38,
      "outputs": []
    },
    {
      "cell_type": "code",
      "source": [
        "print(f\"Relatório Individual: {responsavel_selecionado}\")\n",
        "print(f\"Total de escolas atribuídas: {total_escolas}\\n\")\n",
        "\n",
        "print(\"Status das escolas:\")\n",
        "print(status_counts.to_string())\n",
        "\n",
        "print(\"\\nPercentual de status (%):\")\n",
        "print(status_percent.round(2).to_string())\n",
        "\n",
        "print(\"\\nAplicando:\")\n",
        "print(aplicando_counts.to_string())"
      ],
      "metadata": {
        "colab": {
          "base_uri": "https://localhost:8080/"
        },
        "id": "cyc4qnKewZk8",
        "outputId": "978636c7-6455-467c-82bc-cefe4b85ae28"
      },
      "execution_count": 41,
      "outputs": [
        {
          "output_type": "stream",
          "name": "stdout",
          "text": [
            "Relatório Individual: Rayssa\n",
            "Total de escolas atribuídas: 48\n",
            "\n",
            "Status das escolas:\n",
            "Status\n",
            "Abordada       28\n",
            "Não Efetivo    10\n",
            "Retração       10\n",
            "\n",
            "Percentual de status (%):\n",
            "Status\n",
            "Abordada       58.33\n",
            "Não Efetivo    20.83\n",
            "Retração       20.83\n",
            "\n",
            "Aplicando:\n",
            "Aplicando\n",
            "Sim    33\n",
            "Não    15\n"
          ]
        }
      ]
    },
    {
      "cell_type": "code",
      "source": [
        "# Resumo geral de desempenho semanal da empresa\n",
        "\n",
        "total_escolas_geral = len(df)\n",
        "\n",
        "status_counts_geral = df[\"Status\"].value_counts()\n",
        "status_percent_geral = df[\"Status\"].value_counts(normalize=True) * 100\n",
        "\n",
        "aplicando_counts_geral = df[\"Aplicando\"].value_counts()\n",
        "aplicando_percent_geral = df[\"Aplicando\"].value_counts(normalize=True) * 100"
      ],
      "metadata": {
        "id": "RucuWg4dzB0i"
      },
      "execution_count": 44,
      "outputs": []
    },
    {
      "cell_type": "code",
      "source": [
        "print(f\"\\nResumo Geral da Empresa\")\n",
        "print(f\"Total de escolas: {total_escolas_geral}\\n\")\n",
        "\n",
        "print(\"Status das escolas:\")\n",
        "print(status_counts_geral.to_string())\n",
        "\n",
        "print(\"\\nPercentual de status (%):\")\n",
        "print(status_percent_geral.round(2).to_string())\n",
        "\n",
        "print(\"\\nAplicando:\")\n",
        "print(aplicando_counts_geral.to_string())\n",
        "\n",
        "print(\"\\nPercentual de aplicando (%):\")\n",
        "print(aplicando_percent_geral.round(2).to_string())"
      ],
      "metadata": {
        "colab": {
          "base_uri": "https://localhost:8080/"
        },
        "id": "mgs_-pD5zJeU",
        "outputId": "76235ab5-c7b5-4fa0-d6e1-680c35f09101"
      },
      "execution_count": 45,
      "outputs": [
        {
          "output_type": "stream",
          "name": "stdout",
          "text": [
            "\n",
            "Resumo Geral da Empresa\n",
            "Total de escolas: 200\n",
            "\n",
            "Status das escolas:\n",
            "Status\n",
            "Abordada       122\n",
            "Não Efetivo     47\n",
            "Retração        31\n",
            "\n",
            "Percentual de status (%):\n",
            "Status\n",
            "Abordada       61.0\n",
            "Não Efetivo    23.5\n",
            "Retração       15.5\n",
            "\n",
            "Aplicando:\n",
            "Aplicando\n",
            "Sim    138\n",
            "Não     62\n",
            "\n",
            "Percentual de aplicando (%):\n",
            "Aplicando\n",
            "Sim    69.0\n",
            "Não    31.0\n"
          ]
        }
      ]
    },
    {
      "cell_type": "code",
      "source": [
        "#organizando df\n",
        "df_resumo_geral = pd.DataFrame({\n",
        "    \"Status\": status_counts_geral.index,\n",
        "    \"Quantidade\": status_counts_geral.values,\n",
        "    \"Percentual (%)\": status_percent_geral.round(2).values\n",
        "})"
      ],
      "metadata": {
        "id": "YoBRR0QnzOLN"
      },
      "execution_count": 46,
      "outputs": []
    },
    {
      "cell_type": "code",
      "source": [
        "df_resumo_geral.to_csv(\"resumo_geral_empresa.csv\", index=False) #salvar csv resumo geral"
      ],
      "metadata": {
        "id": "UpWvzX6JzV4y"
      },
      "execution_count": 48,
      "outputs": []
    },
    {
      "cell_type": "code",
      "source": [
        "df_individual.to_csv(\"relatorio_Rayssa.csv\", index=False) #salvar csv resumo individual"
      ],
      "metadata": {
        "id": "bbvwAV183rv1"
      },
      "execution_count": 61,
      "outputs": []
    },
    {
      "cell_type": "code",
      "source": [
        "print(\"Arquivos CSV criados\")"
      ],
      "metadata": {
        "colab": {
          "base_uri": "https://localhost:8080/"
        },
        "id": "DO7EwXK-31WJ",
        "outputId": "52689384-549c-4ae4-f312-5c8749092b24"
      },
      "execution_count": 62,
      "outputs": [
        {
          "output_type": "stream",
          "name": "stdout",
          "text": [
            "Arquivos CSV criados\n"
          ]
        }
      ]
    }
  ]
}